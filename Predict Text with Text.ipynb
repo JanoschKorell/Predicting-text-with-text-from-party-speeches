{
 "cells": [
  {
   "cell_type": "code",
   "execution_count": 1,
   "id": "d7ccfc10-ac91-432c-a975-b37e361acade",
   "metadata": {
    "tags": []
   },
   "outputs": [
    {
     "name": "stdout",
     "output_type": "stream",
     "text": [
      "WARNING:tensorflow:Mixed precision compatibility check (mixed_float16): WARNING\n",
      "The dtype policy mixed_float16 may run slowly because this machine does not have a GPU. Only Nvidia GPUs with compute capability of at least 7.0 run quickly with mixed_float16.\n",
      "If you will use compatible GPU(s) not attached to this host, e.g. by running a multi-worker model, you can ignore this warning. This message will only be logged once\n"
     ]
    },
    {
     "name": "stderr",
     "output_type": "stream",
     "text": [
      "[nltk_data] Downloading package punkt to\n",
      "[nltk_data]     /Users/janoschkorell/nltk_data...\n",
      "[nltk_data]   Package punkt is already up-to-date!\n"
     ]
    }
   ],
   "source": [
    "import plotly\n",
    "import plotly.express as px\n",
    "import matplotlib.pyplot as plt\n",
    "import plotly.graph_objects as go\n",
    "import numpy as np\n",
    "from scipy.stats import norm\n",
    "import dash_daq as daq\n",
    "import dash_bootstrap_components as dbc\n",
    "from plotly.subplots import make_subplots\n",
    "from dash_bootstrap_templates import load_figure_template\n",
    "\n",
    "import dash\n",
    "from dash import Dash, dcc, html, Input, Output, State\n",
    "import os\n",
    "import pickle\n",
    "\n",
    "\n",
    "\n",
    "\n",
    "##################################################\n",
    "\n",
    "\n",
    "\n",
    "import tensorflow as tf\n",
    "\n",
    "from tensorflow.keras.preprocessing.sequence import pad_sequences\n",
    "from tensorflow.keras.callbacks import ModelCheckpoint, EarlyStopping\n",
    "from tensorflow.keras.layers import Embedding, LSTM, Dense, Bidirectional\n",
    "from tensorflow.keras.preprocessing.text import Tokenizer\n",
    "from tensorflow.keras.models import Sequential\n",
    "from tensorflow.keras.optimizers import Adam,RMSprop\n",
    "from tensorflow.keras.layers import Dropout\n",
    "from tensorflow.keras.models import load_model\n",
    "import numpy as np \n",
    "import numpy as np \n",
    "import os\n",
    "import pandas as pd\n",
    "\n",
    "import re\n",
    "from nltk import tokenize\n",
    "import keras.utils as ku\n",
    "from sklearn.model_selection import train_test_split\n",
    "import pickle\n",
    "\n",
    "import nltk\n",
    "nltk.download('punkt')\n",
    "from nltk.tokenize import sent_tokenize\n",
    "\n",
    "from tensorflow.keras import mixed_precision\n",
    "policy = mixed_precision.Policy('mixed_float16')\n",
    "mixed_precision.set_global_policy(policy)\n",
    "import time\n",
    "\n",
    "from dash.long_callback import DiskcacheLongCallbackManager\n",
    "import diskcache\n",
    "cache = diskcache.Cache(\"/Users/janoschkorell/Desktop/Wissenschaft/Statistik/Python/Python Projekte/Predict Text from Parties/filesG/\")\n",
    "long_callback_manager = DiskcacheLongCallbackManager(cache)\n",
    "\n",
    "import datetime\n",
    "from tkinter import *\n",
    "from keras.models import load_model"
   ]
  },
  {
   "cell_type": "code",
   "execution_count": 2,
   "id": "b92bc2b1-9feb-40cf-bcef-ebc3f1f48ffd",
   "metadata": {},
   "outputs": [],
   "source": [
    "os.chdir('/Users/janoschkorell/Desktop/Wissenschaft/Statistik/Python/Python Projekte/Predict Text from Parties/filesG/')"
   ]
  },
  {
   "cell_type": "code",
   "execution_count": 3,
   "id": "2881ed1d-046f-4392-8f0e-6470709ecfa2",
   "metadata": {
    "tags": []
   },
   "outputs": [
    {
     "name": "stdout",
     "output_type": "stream",
     "text": [
      "WARNING:tensorflow:Error in loading the saved optimizer state. As a result, your model is starting with a freshly initialized optimizer.\n"
     ]
    }
   ],
   "source": [
    "#Import models of parties\n",
    "\n",
    "file = open(\"FDP1.pkl\",'rb')\n",
    "model_FDP = pickle.load(file)\n",
    "file.close()\n",
    "\n",
    "file = open(\"tokenizer_FDP\",'rb')\n",
    "tokenizer_FDP = pickle.load(file)\n",
    "file.close()\n",
    "\n",
    "file = open(\"max_sequence_len_FDP\",'rb')\n",
    "max_sequence_len_FDP = pickle.load(file)\n",
    "file.close()\n",
    "\n",
    "#########################################################\n",
    "\n",
    "file = open(\"Grüne1.pkl\",'rb')\n",
    "model_Grüne = pickle.load(file)\n",
    "file.close()\n",
    "\n",
    "file = open(\"tokenizer_Grüne\",'rb')\n",
    "tokenizer_Grüne = pickle.load(file)\n",
    "file.close()\n",
    "\n",
    "file = open(\"max_sequence_len_Grüne\",'rb')\n",
    "max_sequence_len_Grüne = pickle.load(file)\n",
    "file.close()\n",
    "\n",
    "#########################################################\n",
    "\n",
    "\n",
    "model_afd = load_model('afd.h5')\n",
    "\n",
    "file = open(\"tokenizer_afd\",'rb')\n",
    "tokenizer_afd = pickle.load(file)\n",
    "file.close()\n",
    "\n",
    "file = open(\"max_sequence_len_afd\",'rb')\n",
    "max_sequence_len_afd= pickle.load(file)\n",
    "file.close()"
   ]
  },
  {
   "cell_type": "code",
   "execution_count": 4,
   "id": "835bacc4-f75a-404d-8d4d-b169c3c7404f",
   "metadata": {},
   "outputs": [],
   "source": [
    "os.chdir('/Users/janoschkorell/Desktop/Wissenschaft/Statistik/Python/Python Projekte/Predict Text from Parties/')"
   ]
  },
  {
   "cell_type": "code",
   "execution_count": 5,
   "id": "a209caa8-f486-4035-8a3f-e7e9995c2932",
   "metadata": {
    "scrolled": true,
    "tags": []
   },
   "outputs": [
    {
     "name": "stdout",
     "output_type": "stream",
     "text": [
      "Dash is running on http://127.0.0.1:8050/\n",
      "\n",
      " * Serving Flask app '__main__' (lazy loading)\n",
      " * Environment: production\n",
      "\u001b[31m   WARNING: This is a development server. Do not use it in a production deployment.\u001b[0m\n",
      "\u001b[2m   Use a production WSGI server instead.\u001b[0m\n",
      " * Debug mode: off\n"
     ]
    },
    {
     "name": "stderr",
     "output_type": "stream",
     "text": [
      " * Running on http://127.0.0.1:8050/ (Press CTRL+C to quit)\n",
      "127.0.0.1 - - [25/Apr/2023 12:02:08] \"GET / HTTP/1.1\" 200 -\n",
      "127.0.0.1 - - [25/Apr/2023 12:02:08] \"GET /assets/typography.css?m=1682385872.9050307 HTTP/1.1\" 304 -\n",
      "127.0.0.1 - - [25/Apr/2023 12:02:08] \"GET /assets/custom-scripts.js?m=1682367884.5711865 HTTP/1.1\" 304 -\n",
      "127.0.0.1 - - [25/Apr/2023 12:02:08] \"GET /_dash-layout HTTP/1.1\" 200 -\n",
      "127.0.0.1 - - [25/Apr/2023 12:02:08] \"GET /_dash-dependencies HTTP/1.1\" 200 -\n",
      "127.0.0.1 - - [25/Apr/2023 12:02:08] \"GET /_dash-component-suites/dash/dcc/async-markdown.js HTTP/1.1\" 200 -\n",
      "[2023-04-25 12:02:08,474] ERROR in app: Exception on /_dash-update-component [POST]\n",
      "Traceback (most recent call last):\n",
      "  File \"/Library/Frameworks/Python.framework/Versions/3.9/lib/python3.9/site-packages/flask/app.py\", line 2073, in wsgi_app\n",
      "    response = self.full_dispatch_request()\n",
      "  File \"/Library/Frameworks/Python.framework/Versions/3.9/lib/python3.9/site-packages/flask/app.py\", line 1518, in full_dispatch_request\n",
      "    rv = self.handle_user_exception(e)\n",
      "  File \"/Library/Frameworks/Python.framework/Versions/3.9/lib/python3.9/site-packages/flask/app.py\", line 1516, in full_dispatch_request\n",
      "    rv = self.dispatch_request()\n",
      "  File \"/Library/Frameworks/Python.framework/Versions/3.9/lib/python3.9/site-packages/flask/app.py\", line 1502, in dispatch_request\n",
      "    return self.ensure_sync(self.view_functions[rule.endpoint])(**req.view_args)\n",
      "  File \"/Library/Frameworks/Python.framework/Versions/3.9/lib/python3.9/site-packages/dash/dash.py\", line 1283, in dispatch\n",
      "    ctx.run(\n",
      "  File \"/Library/Frameworks/Python.framework/Versions/3.9/lib/python3.9/site-packages/dash/_callback.py\", line 465, in add_context\n",
      "    flat_output_values = flatten_grouping(output_value, output)\n",
      "  File \"/Library/Frameworks/Python.framework/Versions/3.9/lib/python3.9/site-packages/dash/_grouping.py\", line 35, in flatten_grouping\n",
      "    validate_grouping(grouping, schema)\n",
      "  File \"/Library/Frameworks/Python.framework/Versions/3.9/lib/python3.9/site-packages/dash/_grouping.py\", line 210, in validate_grouping\n",
      "    SchemaTypeValidationError.check(grouping, full_schema, path, (tuple, list))\n",
      "  File \"/Library/Frameworks/Python.framework/Versions/3.9/lib/python3.9/site-packages/dash/_grouping.py\", line 162, in check\n",
      "    raise SchemaTypeValidationError(value, full_schema, path, expected_type)\n",
      "dash._grouping.SchemaTypeValidationError: Schema: [<Output `textarea-state-example-output_Grüne.value`>, <Output `textarea-state-example-output_afd.value`>, <Output `textarea-state-example-output_fdp.value`>]\n",
      "Path: ()\n",
      "Expected type: (<class 'tuple'>, <class 'list'>)\n",
      "Received value of type <class 'NoneType'>:\n",
      "    None\n",
      "127.0.0.1 - - [25/Apr/2023 12:02:08] \"POST /_dash-update-component HTTP/1.1\" 500 -\n",
      "127.0.0.1 - - [25/Apr/2023 12:02:08] \"GET /_dash-component-suites/dash/dcc/async-highlight.js HTTP/1.1\" 200 -\n",
      "[2023-04-25 12:02:09,475] ERROR in app: Exception on /_dash-update-component [POST]\n",
      "Traceback (most recent call last):\n",
      "  File \"/Library/Frameworks/Python.framework/Versions/3.9/lib/python3.9/site-packages/flask/app.py\", line 2073, in wsgi_app\n",
      "    response = self.full_dispatch_request()\n",
      "  File \"/Library/Frameworks/Python.framework/Versions/3.9/lib/python3.9/site-packages/flask/app.py\", line 1518, in full_dispatch_request\n",
      "    rv = self.handle_user_exception(e)\n",
      "  File \"/Library/Frameworks/Python.framework/Versions/3.9/lib/python3.9/site-packages/flask/app.py\", line 1516, in full_dispatch_request\n",
      "    rv = self.dispatch_request()\n",
      "  File \"/Library/Frameworks/Python.framework/Versions/3.9/lib/python3.9/site-packages/flask/app.py\", line 1502, in dispatch_request\n",
      "    return self.ensure_sync(self.view_functions[rule.endpoint])(**req.view_args)\n",
      "  File \"/Library/Frameworks/Python.framework/Versions/3.9/lib/python3.9/site-packages/dash/dash.py\", line 1283, in dispatch\n",
      "    ctx.run(\n",
      "  File \"/Library/Frameworks/Python.framework/Versions/3.9/lib/python3.9/site-packages/dash/_callback.py\", line 465, in add_context\n",
      "    flat_output_values = flatten_grouping(output_value, output)\n",
      "  File \"/Library/Frameworks/Python.framework/Versions/3.9/lib/python3.9/site-packages/dash/_grouping.py\", line 35, in flatten_grouping\n",
      "    validate_grouping(grouping, schema)\n",
      "  File \"/Library/Frameworks/Python.framework/Versions/3.9/lib/python3.9/site-packages/dash/_grouping.py\", line 210, in validate_grouping\n",
      "    SchemaTypeValidationError.check(grouping, full_schema, path, (tuple, list))\n",
      "  File \"/Library/Frameworks/Python.framework/Versions/3.9/lib/python3.9/site-packages/dash/_grouping.py\", line 162, in check\n",
      "    raise SchemaTypeValidationError(value, full_schema, path, expected_type)\n",
      "dash._grouping.SchemaTypeValidationError: Schema: [<Output `textarea-state-example-output_Grüne.placeholder`>, <Output `textarea-state-example-output_afd.placeholder`>, <Output `textarea-state-example-output_fdp.placeholder`>]\n",
      "Path: ()\n",
      "Expected type: (<class 'tuple'>, <class 'list'>)\n",
      "Received value of type <class 'NoneType'>:\n",
      "    None\n",
      "127.0.0.1 - - [25/Apr/2023 12:02:09] \"POST /_dash-update-component HTTP/1.1\" 500 -\n",
      "[2023-04-25 12:02:10,472] ERROR in app: Exception on /_dash-update-component [POST]\n",
      "Traceback (most recent call last):\n",
      "  File \"/Library/Frameworks/Python.framework/Versions/3.9/lib/python3.9/site-packages/flask/app.py\", line 2073, in wsgi_app\n",
      "    response = self.full_dispatch_request()\n",
      "  File \"/Library/Frameworks/Python.framework/Versions/3.9/lib/python3.9/site-packages/flask/app.py\", line 1518, in full_dispatch_request\n",
      "    rv = self.handle_user_exception(e)\n",
      "  File \"/Library/Frameworks/Python.framework/Versions/3.9/lib/python3.9/site-packages/flask/app.py\", line 1516, in full_dispatch_request\n",
      "    rv = self.dispatch_request()\n",
      "  File \"/Library/Frameworks/Python.framework/Versions/3.9/lib/python3.9/site-packages/flask/app.py\", line 1502, in dispatch_request\n",
      "    return self.ensure_sync(self.view_functions[rule.endpoint])(**req.view_args)\n",
      "  File \"/Library/Frameworks/Python.framework/Versions/3.9/lib/python3.9/site-packages/dash/dash.py\", line 1283, in dispatch\n",
      "    ctx.run(\n",
      "  File \"/Library/Frameworks/Python.framework/Versions/3.9/lib/python3.9/site-packages/dash/_callback.py\", line 465, in add_context\n",
      "    flat_output_values = flatten_grouping(output_value, output)\n",
      "  File \"/Library/Frameworks/Python.framework/Versions/3.9/lib/python3.9/site-packages/dash/_grouping.py\", line 35, in flatten_grouping\n",
      "    validate_grouping(grouping, schema)\n",
      "  File \"/Library/Frameworks/Python.framework/Versions/3.9/lib/python3.9/site-packages/dash/_grouping.py\", line 210, in validate_grouping\n",
      "    SchemaTypeValidationError.check(grouping, full_schema, path, (tuple, list))\n",
      "  File \"/Library/Frameworks/Python.framework/Versions/3.9/lib/python3.9/site-packages/dash/_grouping.py\", line 162, in check\n",
      "    raise SchemaTypeValidationError(value, full_schema, path, expected_type)\n",
      "dash._grouping.SchemaTypeValidationError: Schema: [<Output `textarea-state-example-output_Grüne.placeholder`>, <Output `textarea-state-example-output_afd.placeholder`>, <Output `textarea-state-example-output_fdp.placeholder`>]\n",
      "Path: ()\n",
      "Expected type: (<class 'tuple'>, <class 'list'>)\n",
      "Received value of type <class 'NoneType'>:\n",
      "    None\n",
      "127.0.0.1 - - [25/Apr/2023 12:02:10] \"POST /_dash-update-component HTTP/1.1\" 500 -\n",
      "127.0.0.1 - - [25/Apr/2023 12:02:11] \"GET /_reload-hash HTTP/1.1\" 200 -\n",
      "[2023-04-25 12:02:11,476] ERROR in app: Exception on /_dash-update-component [POST]\n",
      "Traceback (most recent call last):\n",
      "  File \"/Library/Frameworks/Python.framework/Versions/3.9/lib/python3.9/site-packages/flask/app.py\", line 2073, in wsgi_app\n",
      "    response = self.full_dispatch_request()\n",
      "  File \"/Library/Frameworks/Python.framework/Versions/3.9/lib/python3.9/site-packages/flask/app.py\", line 1518, in full_dispatch_request\n",
      "    rv = self.handle_user_exception(e)\n",
      "  File \"/Library/Frameworks/Python.framework/Versions/3.9/lib/python3.9/site-packages/flask/app.py\", line 1516, in full_dispatch_request\n",
      "    rv = self.dispatch_request()\n",
      "  File \"/Library/Frameworks/Python.framework/Versions/3.9/lib/python3.9/site-packages/flask/app.py\", line 1502, in dispatch_request\n",
      "    return self.ensure_sync(self.view_functions[rule.endpoint])(**req.view_args)\n",
      "  File \"/Library/Frameworks/Python.framework/Versions/3.9/lib/python3.9/site-packages/dash/dash.py\", line 1283, in dispatch\n",
      "    ctx.run(\n",
      "  File \"/Library/Frameworks/Python.framework/Versions/3.9/lib/python3.9/site-packages/dash/_callback.py\", line 465, in add_context\n",
      "    flat_output_values = flatten_grouping(output_value, output)\n",
      "  File \"/Library/Frameworks/Python.framework/Versions/3.9/lib/python3.9/site-packages/dash/_grouping.py\", line 35, in flatten_grouping\n",
      "    validate_grouping(grouping, schema)\n",
      "  File \"/Library/Frameworks/Python.framework/Versions/3.9/lib/python3.9/site-packages/dash/_grouping.py\", line 210, in validate_grouping\n",
      "    SchemaTypeValidationError.check(grouping, full_schema, path, (tuple, list))\n",
      "  File \"/Library/Frameworks/Python.framework/Versions/3.9/lib/python3.9/site-packages/dash/_grouping.py\", line 162, in check\n",
      "    raise SchemaTypeValidationError(value, full_schema, path, expected_type)\n",
      "dash._grouping.SchemaTypeValidationError: Schema: [<Output `textarea-state-example-output_Grüne.placeholder`>, <Output `textarea-state-example-output_afd.placeholder`>, <Output `textarea-state-example-output_fdp.placeholder`>]\n",
      "Path: ()\n",
      "Expected type: (<class 'tuple'>, <class 'list'>)\n",
      "Received value of type <class 'NoneType'>:\n",
      "    None\n",
      "127.0.0.1 - - [25/Apr/2023 12:02:11] \"POST /_dash-update-component HTTP/1.1\" 500 -\n",
      "[2023-04-25 12:02:12,476] ERROR in app: Exception on /_dash-update-component [POST]\n",
      "Traceback (most recent call last):\n",
      "  File \"/Library/Frameworks/Python.framework/Versions/3.9/lib/python3.9/site-packages/flask/app.py\", line 2073, in wsgi_app\n",
      "    response = self.full_dispatch_request()\n",
      "  File \"/Library/Frameworks/Python.framework/Versions/3.9/lib/python3.9/site-packages/flask/app.py\", line 1518, in full_dispatch_request\n",
      "    rv = self.handle_user_exception(e)\n",
      "  File \"/Library/Frameworks/Python.framework/Versions/3.9/lib/python3.9/site-packages/flask/app.py\", line 1516, in full_dispatch_request\n",
      "    rv = self.dispatch_request()\n",
      "  File \"/Library/Frameworks/Python.framework/Versions/3.9/lib/python3.9/site-packages/flask/app.py\", line 1502, in dispatch_request\n",
      "    return self.ensure_sync(self.view_functions[rule.endpoint])(**req.view_args)\n",
      "  File \"/Library/Frameworks/Python.framework/Versions/3.9/lib/python3.9/site-packages/dash/dash.py\", line 1283, in dispatch\n",
      "    ctx.run(\n",
      "  File \"/Library/Frameworks/Python.framework/Versions/3.9/lib/python3.9/site-packages/dash/_callback.py\", line 465, in add_context\n",
      "    flat_output_values = flatten_grouping(output_value, output)\n",
      "  File \"/Library/Frameworks/Python.framework/Versions/3.9/lib/python3.9/site-packages/dash/_grouping.py\", line 35, in flatten_grouping\n",
      "    validate_grouping(grouping, schema)\n",
      "  File \"/Library/Frameworks/Python.framework/Versions/3.9/lib/python3.9/site-packages/dash/_grouping.py\", line 210, in validate_grouping\n",
      "    SchemaTypeValidationError.check(grouping, full_schema, path, (tuple, list))\n",
      "  File \"/Library/Frameworks/Python.framework/Versions/3.9/lib/python3.9/site-packages/dash/_grouping.py\", line 162, in check\n",
      "    raise SchemaTypeValidationError(value, full_schema, path, expected_type)\n",
      "dash._grouping.SchemaTypeValidationError: Schema: [<Output `textarea-state-example-output_Grüne.placeholder`>, <Output `textarea-state-example-output_afd.placeholder`>, <Output `textarea-state-example-output_fdp.placeholder`>]\n",
      "Path: ()\n",
      "Expected type: (<class 'tuple'>, <class 'list'>)\n",
      "Received value of type <class 'NoneType'>:\n",
      "    None\n",
      "127.0.0.1 - - [25/Apr/2023 12:02:12] \"POST /_dash-update-component HTTP/1.1\" 500 -\n",
      "[2023-04-25 12:02:13,476] ERROR in app: Exception on /_dash-update-component [POST]\n",
      "Traceback (most recent call last):\n",
      "  File \"/Library/Frameworks/Python.framework/Versions/3.9/lib/python3.9/site-packages/flask/app.py\", line 2073, in wsgi_app\n",
      "    response = self.full_dispatch_request()\n",
      "  File \"/Library/Frameworks/Python.framework/Versions/3.9/lib/python3.9/site-packages/flask/app.py\", line 1518, in full_dispatch_request\n",
      "    rv = self.handle_user_exception(e)\n",
      "  File \"/Library/Frameworks/Python.framework/Versions/3.9/lib/python3.9/site-packages/flask/app.py\", line 1516, in full_dispatch_request\n",
      "    rv = self.dispatch_request()\n",
      "  File \"/Library/Frameworks/Python.framework/Versions/3.9/lib/python3.9/site-packages/flask/app.py\", line 1502, in dispatch_request\n",
      "    return self.ensure_sync(self.view_functions[rule.endpoint])(**req.view_args)\n",
      "  File \"/Library/Frameworks/Python.framework/Versions/3.9/lib/python3.9/site-packages/dash/dash.py\", line 1283, in dispatch\n",
      "    ctx.run(\n",
      "  File \"/Library/Frameworks/Python.framework/Versions/3.9/lib/python3.9/site-packages/dash/_callback.py\", line 465, in add_context\n",
      "    flat_output_values = flatten_grouping(output_value, output)\n",
      "  File \"/Library/Frameworks/Python.framework/Versions/3.9/lib/python3.9/site-packages/dash/_grouping.py\", line 35, in flatten_grouping\n",
      "    validate_grouping(grouping, schema)\n",
      "  File \"/Library/Frameworks/Python.framework/Versions/3.9/lib/python3.9/site-packages/dash/_grouping.py\", line 210, in validate_grouping\n",
      "    SchemaTypeValidationError.check(grouping, full_schema, path, (tuple, list))\n",
      "  File \"/Library/Frameworks/Python.framework/Versions/3.9/lib/python3.9/site-packages/dash/_grouping.py\", line 162, in check\n",
      "    raise SchemaTypeValidationError(value, full_schema, path, expected_type)\n",
      "dash._grouping.SchemaTypeValidationError: Schema: [<Output `textarea-state-example-output_Grüne.placeholder`>, <Output `textarea-state-example-output_afd.placeholder`>, <Output `textarea-state-example-output_fdp.placeholder`>]\n",
      "Path: ()\n",
      "Expected type: (<class 'tuple'>, <class 'list'>)\n",
      "Received value of type <class 'NoneType'>:\n",
      "    None\n",
      "127.0.0.1 - - [25/Apr/2023 12:02:13] \"POST /_dash-update-component HTTP/1.1\" 500 -\n",
      "127.0.0.1 - - [25/Apr/2023 12:02:14] \"GET /_reload-hash HTTP/1.1\" 200 -\n",
      "[2023-04-25 12:02:14,478] ERROR in app: Exception on /_dash-update-component [POST]\n",
      "Traceback (most recent call last):\n",
      "  File \"/Library/Frameworks/Python.framework/Versions/3.9/lib/python3.9/site-packages/flask/app.py\", line 2073, in wsgi_app\n",
      "    response = self.full_dispatch_request()\n",
      "  File \"/Library/Frameworks/Python.framework/Versions/3.9/lib/python3.9/site-packages/flask/app.py\", line 1518, in full_dispatch_request\n",
      "    rv = self.handle_user_exception(e)\n",
      "  File \"/Library/Frameworks/Python.framework/Versions/3.9/lib/python3.9/site-packages/flask/app.py\", line 1516, in full_dispatch_request\n",
      "    rv = self.dispatch_request()\n",
      "  File \"/Library/Frameworks/Python.framework/Versions/3.9/lib/python3.9/site-packages/flask/app.py\", line 1502, in dispatch_request\n",
      "    return self.ensure_sync(self.view_functions[rule.endpoint])(**req.view_args)\n",
      "  File \"/Library/Frameworks/Python.framework/Versions/3.9/lib/python3.9/site-packages/dash/dash.py\", line 1283, in dispatch\n",
      "    ctx.run(\n",
      "  File \"/Library/Frameworks/Python.framework/Versions/3.9/lib/python3.9/site-packages/dash/_callback.py\", line 465, in add_context\n",
      "    flat_output_values = flatten_grouping(output_value, output)\n",
      "  File \"/Library/Frameworks/Python.framework/Versions/3.9/lib/python3.9/site-packages/dash/_grouping.py\", line 35, in flatten_grouping\n",
      "    validate_grouping(grouping, schema)\n",
      "  File \"/Library/Frameworks/Python.framework/Versions/3.9/lib/python3.9/site-packages/dash/_grouping.py\", line 210, in validate_grouping\n",
      "    SchemaTypeValidationError.check(grouping, full_schema, path, (tuple, list))\n",
      "  File \"/Library/Frameworks/Python.framework/Versions/3.9/lib/python3.9/site-packages/dash/_grouping.py\", line 162, in check\n",
      "    raise SchemaTypeValidationError(value, full_schema, path, expected_type)\n",
      "dash._grouping.SchemaTypeValidationError: Schema: [<Output `textarea-state-example-output_Grüne.placeholder`>, <Output `textarea-state-example-output_afd.placeholder`>, <Output `textarea-state-example-output_fdp.placeholder`>]\n",
      "Path: ()\n",
      "Expected type: (<class 'tuple'>, <class 'list'>)\n",
      "Received value of type <class 'NoneType'>:\n",
      "    None\n",
      "127.0.0.1 - - [25/Apr/2023 12:02:14] \"POST /_dash-update-component HTTP/1.1\" 500 -\n",
      "[2023-04-25 12:02:15,475] ERROR in app: Exception on /_dash-update-component [POST]\n",
      "Traceback (most recent call last):\n",
      "  File \"/Library/Frameworks/Python.framework/Versions/3.9/lib/python3.9/site-packages/flask/app.py\", line 2073, in wsgi_app\n",
      "    response = self.full_dispatch_request()\n",
      "  File \"/Library/Frameworks/Python.framework/Versions/3.9/lib/python3.9/site-packages/flask/app.py\", line 1518, in full_dispatch_request\n",
      "    rv = self.handle_user_exception(e)\n",
      "  File \"/Library/Frameworks/Python.framework/Versions/3.9/lib/python3.9/site-packages/flask/app.py\", line 1516, in full_dispatch_request\n",
      "    rv = self.dispatch_request()\n",
      "  File \"/Library/Frameworks/Python.framework/Versions/3.9/lib/python3.9/site-packages/flask/app.py\", line 1502, in dispatch_request\n",
      "    return self.ensure_sync(self.view_functions[rule.endpoint])(**req.view_args)\n",
      "  File \"/Library/Frameworks/Python.framework/Versions/3.9/lib/python3.9/site-packages/dash/dash.py\", line 1283, in dispatch\n",
      "    ctx.run(\n",
      "  File \"/Library/Frameworks/Python.framework/Versions/3.9/lib/python3.9/site-packages/dash/_callback.py\", line 465, in add_context\n",
      "    flat_output_values = flatten_grouping(output_value, output)\n",
      "  File \"/Library/Frameworks/Python.framework/Versions/3.9/lib/python3.9/site-packages/dash/_grouping.py\", line 35, in flatten_grouping\n",
      "    validate_grouping(grouping, schema)\n",
      "  File \"/Library/Frameworks/Python.framework/Versions/3.9/lib/python3.9/site-packages/dash/_grouping.py\", line 210, in validate_grouping\n",
      "    SchemaTypeValidationError.check(grouping, full_schema, path, (tuple, list))\n",
      "  File \"/Library/Frameworks/Python.framework/Versions/3.9/lib/python3.9/site-packages/dash/_grouping.py\", line 162, in check\n",
      "    raise SchemaTypeValidationError(value, full_schema, path, expected_type)\n",
      "dash._grouping.SchemaTypeValidationError: Schema: [<Output `textarea-state-example-output_Grüne.placeholder`>, <Output `textarea-state-example-output_afd.placeholder`>, <Output `textarea-state-example-output_fdp.placeholder`>]\n",
      "Path: ()\n",
      "Expected type: (<class 'tuple'>, <class 'list'>)\n",
      "Received value of type <class 'NoneType'>:\n",
      "    None\n",
      "127.0.0.1 - - [25/Apr/2023 12:02:15] \"POST /_dash-update-component HTTP/1.1\" 500 -\n",
      "[2023-04-25 12:02:16,480] ERROR in app: Exception on /_dash-update-component [POST]\n",
      "Traceback (most recent call last):\n",
      "  File \"/Library/Frameworks/Python.framework/Versions/3.9/lib/python3.9/site-packages/flask/app.py\", line 2073, in wsgi_app\n",
      "    response = self.full_dispatch_request()\n",
      "  File \"/Library/Frameworks/Python.framework/Versions/3.9/lib/python3.9/site-packages/flask/app.py\", line 1518, in full_dispatch_request\n",
      "    rv = self.handle_user_exception(e)\n",
      "  File \"/Library/Frameworks/Python.framework/Versions/3.9/lib/python3.9/site-packages/flask/app.py\", line 1516, in full_dispatch_request\n",
      "    rv = self.dispatch_request()\n",
      "  File \"/Library/Frameworks/Python.framework/Versions/3.9/lib/python3.9/site-packages/flask/app.py\", line 1502, in dispatch_request\n",
      "    return self.ensure_sync(self.view_functions[rule.endpoint])(**req.view_args)\n",
      "  File \"/Library/Frameworks/Python.framework/Versions/3.9/lib/python3.9/site-packages/dash/dash.py\", line 1283, in dispatch\n",
      "    ctx.run(\n",
      "  File \"/Library/Frameworks/Python.framework/Versions/3.9/lib/python3.9/site-packages/dash/_callback.py\", line 465, in add_context\n",
      "    flat_output_values = flatten_grouping(output_value, output)\n",
      "  File \"/Library/Frameworks/Python.framework/Versions/3.9/lib/python3.9/site-packages/dash/_grouping.py\", line 35, in flatten_grouping\n",
      "    validate_grouping(grouping, schema)\n",
      "  File \"/Library/Frameworks/Python.framework/Versions/3.9/lib/python3.9/site-packages/dash/_grouping.py\", line 210, in validate_grouping\n",
      "    SchemaTypeValidationError.check(grouping, full_schema, path, (tuple, list))\n",
      "  File \"/Library/Frameworks/Python.framework/Versions/3.9/lib/python3.9/site-packages/dash/_grouping.py\", line 162, in check\n",
      "    raise SchemaTypeValidationError(value, full_schema, path, expected_type)\n",
      "dash._grouping.SchemaTypeValidationError: Schema: [<Output `textarea-state-example-output_Grüne.placeholder`>, <Output `textarea-state-example-output_afd.placeholder`>, <Output `textarea-state-example-output_fdp.placeholder`>]\n",
      "Path: ()\n",
      "Expected type: (<class 'tuple'>, <class 'list'>)\n",
      "Received value of type <class 'NoneType'>:\n",
      "    None\n",
      "127.0.0.1 - - [25/Apr/2023 12:02:16] \"POST /_dash-update-component HTTP/1.1\" 500 -\n",
      "127.0.0.1 - - [25/Apr/2023 12:02:17] \"POST /_dash-update-component HTTP/1.1\" 200 -\n",
      "127.0.0.1 - - [25/Apr/2023 12:02:17] \"POST /_dash-update-component HTTP/1.1\" 200 -\n",
      "127.0.0.1 - - [25/Apr/2023 12:02:17] \"GET /_reload-hash HTTP/1.1\" 200 -\n",
      "127.0.0.1 - - [25/Apr/2023 12:02:17] \"POST /_dash-update-component HTTP/1.1\" 200 -\n",
      "127.0.0.1 - - [25/Apr/2023 12:02:18] \"POST /_dash-update-component HTTP/1.1\" 200 -\n",
      "127.0.0.1 - - [25/Apr/2023 12:02:19] \"POST /_dash-update-component HTTP/1.1\" 200 -\n",
      "127.0.0.1 - - [25/Apr/2023 12:02:20] \"GET /_reload-hash HTTP/1.1\" 200 -\n",
      "127.0.0.1 - - [25/Apr/2023 12:02:20] \"POST /_dash-update-component HTTP/1.1\" 200 -\n"
     ]
    },
    {
     "name": "stdout",
     "output_type": "stream",
     "text": [
      "1/1 [==============================] - 3s 3s/step\n"
     ]
    },
    {
     "name": "stderr",
     "output_type": "stream",
     "text": [
      "127.0.0.1 - - [25/Apr/2023 12:02:21] \"POST /_dash-update-component HTTP/1.1\" 200 -\n",
      "127.0.0.1 - - [25/Apr/2023 12:02:22] \"POST /_dash-update-component HTTP/1.1\" 200 -\n",
      "127.0.0.1 - - [25/Apr/2023 12:02:23] \"GET /_reload-hash HTTP/1.1\" 200 -\n",
      "127.0.0.1 - - [25/Apr/2023 12:02:23] \"POST /_dash-update-component HTTP/1.1\" 200 -\n"
     ]
    },
    {
     "name": "stdout",
     "output_type": "stream",
     "text": [
      "1/1 [==============================] - 3s 3s/step\n"
     ]
    },
    {
     "name": "stderr",
     "output_type": "stream",
     "text": [
      "127.0.0.1 - - [25/Apr/2023 12:02:24] \"POST /_dash-update-component HTTP/1.1\" 200 -\n",
      "127.0.0.1 - - [25/Apr/2023 12:02:25] \"POST /_dash-update-component HTTP/1.1\" 200 -\n",
      "127.0.0.1 - - [25/Apr/2023 12:02:26] \"GET /_reload-hash HTTP/1.1\" 200 -\n",
      "127.0.0.1 - - [25/Apr/2023 12:02:26] \"POST /_dash-update-component HTTP/1.1\" 200 -\n",
      "127.0.0.1 - - [25/Apr/2023 12:02:27] \"POST /_dash-update-component HTTP/1.1\" 200 -\n"
     ]
    },
    {
     "name": "stdout",
     "output_type": "stream",
     "text": [
      "1/1 [==============================] - 4s 4s/step\n"
     ]
    },
    {
     "name": "stderr",
     "output_type": "stream",
     "text": [
      "127.0.0.1 - - [25/Apr/2023 12:02:27] \"POST /_dash-update-component HTTP/1.1\" 200 -\n",
      "127.0.0.1 - - [25/Apr/2023 12:02:28] \"POST /_dash-update-component HTTP/1.1\" 200 -\n",
      "127.0.0.1 - - [25/Apr/2023 12:02:29] \"GET /_reload-hash HTTP/1.1\" 200 -\n",
      "127.0.0.1 - - [25/Apr/2023 12:02:29] \"POST /_dash-update-component HTTP/1.1\" 200 -\n",
      "127.0.0.1 - - [25/Apr/2023 12:02:30] \"POST /_dash-update-component HTTP/1.1\" 200 -\n",
      "127.0.0.1 - - [25/Apr/2023 12:02:31] \"POST /_dash-update-component HTTP/1.1\" 200 -\n",
      "127.0.0.1 - - [25/Apr/2023 12:02:32] \"GET /_reload-hash HTTP/1.1\" 200 -\n",
      "127.0.0.1 - - [25/Apr/2023 12:02:32] \"POST /_dash-update-component HTTP/1.1\" 200 -\n",
      "127.0.0.1 - - [25/Apr/2023 12:02:32] \"POST /_dash-update-component HTTP/1.1\" 200 -\n",
      "127.0.0.1 - - [25/Apr/2023 12:02:32] \"POST /_dash-update-component HTTP/1.1\" 200 -\n"
     ]
    },
    {
     "name": "stdout",
     "output_type": "stream",
     "text": [
      "1/1 [==============================] - 1s 1s/step\n",
      "1/1 [==============================] - 1s 1s/step\n"
     ]
    },
    {
     "name": "stderr",
     "output_type": "stream",
     "text": [
      "127.0.0.1 - - [25/Apr/2023 12:02:33] \"POST /_dash-update-component HTTP/1.1\" 200 -\n"
     ]
    },
    {
     "name": "stdout",
     "output_type": "stream",
     "text": [
      "1/1 [==============================] - 2s 2s/step\n",
      "1/1 [==============================] - 2s 2s/step\n"
     ]
    },
    {
     "name": "stderr",
     "output_type": "stream",
     "text": [
      "127.0.0.1 - - [25/Apr/2023 12:02:34] \"POST /_dash-update-component HTTP/1.1\" 200 -\n"
     ]
    },
    {
     "name": "stdout",
     "output_type": "stream",
     "text": [
      "1/1 [==============================] - 2s 2s/step\n"
     ]
    },
    {
     "name": "stderr",
     "output_type": "stream",
     "text": [
      "127.0.0.1 - - [25/Apr/2023 12:02:35] \"GET /_reload-hash HTTP/1.1\" 200 -\n",
      "127.0.0.1 - - [25/Apr/2023 12:02:35] \"POST /_dash-update-component HTTP/1.1\" 200 -\n"
     ]
    },
    {
     "name": "stdout",
     "output_type": "stream",
     "text": [
      "1/1 [==============================] - 2s 2s/step\n",
      "1/1 [==============================] - 2s 2s/step\n"
     ]
    },
    {
     "name": "stderr",
     "output_type": "stream",
     "text": [
      "127.0.0.1 - - [25/Apr/2023 12:02:36] \"POST /_dash-update-component HTTP/1.1\" 200 -\n"
     ]
    },
    {
     "name": "stdout",
     "output_type": "stream",
     "text": [
      "1/1 [==============================] - 2s 2s/step\n"
     ]
    },
    {
     "name": "stderr",
     "output_type": "stream",
     "text": [
      "127.0.0.1 - - [25/Apr/2023 12:02:37] \"POST /_dash-update-component HTTP/1.1\" 200 -\n"
     ]
    },
    {
     "name": "stdout",
     "output_type": "stream",
     "text": [
      "1/1 [==============================] - 2s 2s/step\n",
      "1/1 [==============================] - 2s 2s/step\n"
     ]
    },
    {
     "name": "stderr",
     "output_type": "stream",
     "text": [
      "127.0.0.1 - - [25/Apr/2023 12:02:38] \"GET /_reload-hash HTTP/1.1\" 200 -\n",
      "127.0.0.1 - - [25/Apr/2023 12:02:38] \"POST /_dash-update-component HTTP/1.1\" 200 -\n"
     ]
    },
    {
     "name": "stdout",
     "output_type": "stream",
     "text": [
      "1/1 [==============================] - 2s 2s/step\n",
      "1/1 [==============================] - 2s 2s/step\n"
     ]
    },
    {
     "name": "stderr",
     "output_type": "stream",
     "text": [
      "127.0.0.1 - - [25/Apr/2023 12:02:39] \"POST /_dash-update-component HTTP/1.1\" 200 -\n"
     ]
    },
    {
     "name": "stdout",
     "output_type": "stream",
     "text": [
      "1/1 [==============================] - 2s 2s/step\n",
      "1/1 [==============================] - 2s 2s/step\n"
     ]
    },
    {
     "name": "stderr",
     "output_type": "stream",
     "text": [
      "127.0.0.1 - - [25/Apr/2023 12:02:40] \"POST /_dash-update-component HTTP/1.1\" 200 -\n"
     ]
    },
    {
     "name": "stdout",
     "output_type": "stream",
     "text": [
      "1/1 [==============================] - 2s 2s/step\n",
      "1/1 [==============================] - 2s 2s/step\n"
     ]
    },
    {
     "name": "stderr",
     "output_type": "stream",
     "text": [
      "127.0.0.1 - - [25/Apr/2023 12:02:41] \"GET /_reload-hash HTTP/1.1\" 200 -\n",
      "127.0.0.1 - - [25/Apr/2023 12:02:41] \"POST /_dash-update-component HTTP/1.1\" 200 -\n"
     ]
    },
    {
     "name": "stdout",
     "output_type": "stream",
     "text": [
      "1/1 [==============================] - 1s 1s/step\n",
      "1/1 [==============================] - 1s 1s/step\n"
     ]
    },
    {
     "name": "stderr",
     "output_type": "stream",
     "text": [
      "127.0.0.1 - - [25/Apr/2023 12:02:42] \"POST /_dash-update-component HTTP/1.1\" 200 -\n"
     ]
    },
    {
     "name": "stdout",
     "output_type": "stream",
     "text": [
      "1/1 [==============================] - 2s 2s/step\n"
     ]
    },
    {
     "name": "stderr",
     "output_type": "stream",
     "text": [
      "127.0.0.1 - - [25/Apr/2023 12:02:43] \"POST /_dash-update-component HTTP/1.1\" 200 -\n"
     ]
    },
    {
     "name": "stdout",
     "output_type": "stream",
     "text": [
      "1/1 [==============================] - 2s 2s/step\n",
      "1/1 [==============================] - 1s 1s/step\n"
     ]
    },
    {
     "name": "stderr",
     "output_type": "stream",
     "text": [
      "127.0.0.1 - - [25/Apr/2023 12:02:44] \"GET /_reload-hash HTTP/1.1\" 200 -\n",
      "127.0.0.1 - - [25/Apr/2023 12:02:44] \"POST /_dash-update-component HTTP/1.1\" 200 -\n"
     ]
    },
    {
     "name": "stdout",
     "output_type": "stream",
     "text": [
      "1/1 [==============================] - 2s 2s/step\n",
      "1/1 [==============================] - 2s 2s/step\n",
      "1/1 [==============================] - 2s 2s/step\n"
     ]
    },
    {
     "name": "stderr",
     "output_type": "stream",
     "text": [
      "127.0.0.1 - - [25/Apr/2023 12:02:45] \"POST /_dash-update-component HTTP/1.1\" 200 -\n",
      "127.0.0.1 - - [25/Apr/2023 12:02:46] \"POST /_dash-update-component HTTP/1.1\" 200 -\n"
     ]
    },
    {
     "name": "stdout",
     "output_type": "stream",
     "text": [
      "1/1 [==============================] - 2s 2s/step\n",
      "1/1 [==============================] - 2s 2s/step\n",
      "1/1 [==============================] - 2s 2s/step\n"
     ]
    },
    {
     "name": "stderr",
     "output_type": "stream",
     "text": [
      "127.0.0.1 - - [25/Apr/2023 12:02:47] \"GET /_reload-hash HTTP/1.1\" 200 -\n",
      "127.0.0.1 - - [25/Apr/2023 12:02:47] \"POST /_dash-update-component HTTP/1.1\" 200 -\n"
     ]
    },
    {
     "name": "stdout",
     "output_type": "stream",
     "text": [
      "1/1 [==============================] - 2s 2s/step\n"
     ]
    },
    {
     "name": "stderr",
     "output_type": "stream",
     "text": [
      "127.0.0.1 - - [25/Apr/2023 12:02:48] \"POST /_dash-update-component HTTP/1.1\" 200 -\n"
     ]
    },
    {
     "name": "stdout",
     "output_type": "stream",
     "text": [
      "1/1 [==============================] - 2s 2s/step\n",
      "1/1 [==============================] - 2s 2s/step\n"
     ]
    },
    {
     "name": "stderr",
     "output_type": "stream",
     "text": [
      "127.0.0.1 - - [25/Apr/2023 12:02:49] \"POST /_dash-update-component HTTP/1.1\" 200 -\n",
      "127.0.0.1 - - [25/Apr/2023 12:02:50] \"GET /_reload-hash HTTP/1.1\" 200 -\n"
     ]
    },
    {
     "name": "stdout",
     "output_type": "stream",
     "text": [
      "1/1 [==============================] - 2s 2s/step\n"
     ]
    },
    {
     "name": "stderr",
     "output_type": "stream",
     "text": [
      "127.0.0.1 - - [25/Apr/2023 12:02:50] \"POST /_dash-update-component HTTP/1.1\" 200 -\n"
     ]
    },
    {
     "name": "stdout",
     "output_type": "stream",
     "text": [
      "1/1 [==============================] - 2s 2s/step\n",
      "1/1 [==============================] - 2s 2s/step\n"
     ]
    },
    {
     "name": "stderr",
     "output_type": "stream",
     "text": [
      "127.0.0.1 - - [25/Apr/2023 12:02:51] \"POST /_dash-update-component HTTP/1.1\" 200 -\n",
      "127.0.0.1 - - [25/Apr/2023 12:02:52] \"POST /_dash-update-component HTTP/1.1\" 200 -\n"
     ]
    },
    {
     "name": "stdout",
     "output_type": "stream",
     "text": [
      "1/1 [==============================] - 2s 2s/step\n",
      "1/1 [==============================] - 2s 2s/step\n",
      "1/1 [==============================] - 2s 2s/step\n"
     ]
    },
    {
     "name": "stderr",
     "output_type": "stream",
     "text": [
      "127.0.0.1 - - [25/Apr/2023 12:02:53] \"GET /_reload-hash HTTP/1.1\" 200 -\n",
      "127.0.0.1 - - [25/Apr/2023 12:02:53] \"POST /_dash-update-component HTTP/1.1\" 200 -\n"
     ]
    },
    {
     "name": "stdout",
     "output_type": "stream",
     "text": [
      "1/1 [==============================] - 2s 2s/step\n"
     ]
    },
    {
     "name": "stderr",
     "output_type": "stream",
     "text": [
      "127.0.0.1 - - [25/Apr/2023 12:02:54] \"POST /_dash-update-component HTTP/1.1\" 200 -\n"
     ]
    },
    {
     "name": "stdout",
     "output_type": "stream",
     "text": [
      "1/1 [==============================] - 2s 2s/step\n",
      "1/1 [==============================] - 2s 2s/step\n"
     ]
    },
    {
     "name": "stderr",
     "output_type": "stream",
     "text": [
      "127.0.0.1 - - [25/Apr/2023 12:02:55] \"POST /_dash-update-component HTTP/1.1\" 200 -\n"
     ]
    },
    {
     "name": "stdout",
     "output_type": "stream",
     "text": [
      "1/1 [==============================] - 2s 2s/step\n"
     ]
    },
    {
     "name": "stderr",
     "output_type": "stream",
     "text": [
      "127.0.0.1 - - [25/Apr/2023 12:02:56] \"GET /_reload-hash HTTP/1.1\" 200 -\n"
     ]
    },
    {
     "name": "stdout",
     "output_type": "stream",
     "text": [
      "1/1 [==============================] - 2s 2s/step\n"
     ]
    },
    {
     "name": "stderr",
     "output_type": "stream",
     "text": [
      "127.0.0.1 - - [25/Apr/2023 12:02:56] \"POST /_dash-update-component HTTP/1.1\" 200 -\n"
     ]
    },
    {
     "name": "stdout",
     "output_type": "stream",
     "text": [
      "1/1 [==============================] - 2s 2s/step\n"
     ]
    },
    {
     "name": "stderr",
     "output_type": "stream",
     "text": [
      "127.0.0.1 - - [25/Apr/2023 12:02:57] \"POST /_dash-update-component HTTP/1.1\" 200 -\n",
      "127.0.0.1 - - [25/Apr/2023 12:02:58] \"POST /_dash-update-component HTTP/1.1\" 200 -\n"
     ]
    },
    {
     "name": "stdout",
     "output_type": "stream",
     "text": [
      "1/1 [==============================] - 2s 2s/step\n",
      "1/1 [==============================] - 0s 81ms/step\n",
      "1/1 [==============================] - 2s 2s/step\n",
      "1/1 [==============================] - 2s 2s/step\n",
      "1/1 [==============================] - 0s 93ms/step\n",
      "1/1 [==============================] - 0s 285ms/step\n"
     ]
    },
    {
     "name": "stderr",
     "output_type": "stream",
     "text": [
      "127.0.0.1 - - [25/Apr/2023 12:02:59] \"GET /_reload-hash HTTP/1.1\" 200 -\n",
      "127.0.0.1 - - [25/Apr/2023 12:02:59] \"POST /_dash-update-component HTTP/1.1\" 200 -\n"
     ]
    },
    {
     "name": "stdout",
     "output_type": "stream",
     "text": [
      "1/1 [==============================] - 0s 220ms/step\n",
      "1/1 [==============================] - 0s 236ms/step\n",
      "1/1 [==============================] - 0s 149ms/step\n",
      "1/1 [==============================] - 0s 119ms/step\n"
     ]
    },
    {
     "name": "stderr",
     "output_type": "stream",
     "text": [
      "127.0.0.1 - - [25/Apr/2023 12:03:00] \"POST /_dash-update-component HTTP/1.1\" 200 -\n"
     ]
    },
    {
     "name": "stdout",
     "output_type": "stream",
     "text": [
      "1/1 [==============================] - 0s 98ms/step\n",
      "1/1 [==============================] - 2s 2s/step\n",
      "1/1 [==============================] - 2s 2s/step\n",
      "1/1 [==============================] - 0s 175ms/step\n",
      "1/1 [==============================] - 0s 261ms/step\n"
     ]
    },
    {
     "name": "stderr",
     "output_type": "stream",
     "text": [
      "127.0.0.1 - - [25/Apr/2023 12:03:01] \"POST /_dash-update-component HTTP/1.1\" 200 -\n"
     ]
    },
    {
     "name": "stdout",
     "output_type": "stream",
     "text": [
      "1/1 [==============================] - 0s 338ms/step\n",
      "1/1 [==============================] - 0s 185ms/step\n",
      "1/1 [==============================] - 0s 271ms/step\n",
      "1/1 [==============================] - 0s 99ms/step\n"
     ]
    },
    {
     "name": "stderr",
     "output_type": "stream",
     "text": [
      "127.0.0.1 - - [25/Apr/2023 12:03:02] \"GET /_reload-hash HTTP/1.1\" 200 -\n"
     ]
    },
    {
     "name": "stdout",
     "output_type": "stream",
     "text": [
      "1/1 [==============================] - ETA: 0s"
     ]
    },
    {
     "name": "stderr",
     "output_type": "stream",
     "text": [
      "127.0.0.1 - - [25/Apr/2023 12:03:02] \"POST /_dash-update-component HTTP/1.1\" 200 -\n"
     ]
    },
    {
     "name": "stdout",
     "output_type": "stream",
     "text": [
      "1/1 [==============================] - 2s 2s/step\n",
      "1/1 [==============================] - 2s 2s/step\n",
      "1/1 [==============================] - 0s 98ms/step\n",
      "1/1 [==============================] - 0s 225ms/step\n",
      "1/1 [==============================] - 0s 239ms/step\n"
     ]
    },
    {
     "name": "stderr",
     "output_type": "stream",
     "text": [
      "127.0.0.1 - - [25/Apr/2023 12:03:03] \"POST /_dash-update-component HTTP/1.1\" 200 -\n"
     ]
    },
    {
     "name": "stdout",
     "output_type": "stream",
     "text": [
      "1/1 [==============================] - 0s 175ms/step\n",
      "1/1 [==============================] - 0s 128ms/step\n",
      "1/1 [==============================] - 0s 140ms/step\n",
      "1/1 [==============================] - 1s 1s/step\n",
      "1/1 [==============================] - 2s 2s/step\n",
      "1/1 [==============================] - 0s 96ms/step\n"
     ]
    },
    {
     "name": "stderr",
     "output_type": "stream",
     "text": [
      "127.0.0.1 - - [25/Apr/2023 12:03:04] \"POST /_dash-update-component HTTP/1.1\" 200 -\n"
     ]
    },
    {
     "name": "stdout",
     "output_type": "stream",
     "text": [
      "1/1 [==============================] - 0s 271ms/step\n",
      "1/1 [==============================] - 0s 373ms/step\n",
      "1/1 [==============================] - 0s 173ms/step\n"
     ]
    },
    {
     "name": "stderr",
     "output_type": "stream",
     "text": [
      "127.0.0.1 - - [25/Apr/2023 12:03:05] \"GET /_reload-hash HTTP/1.1\" 200 -\n",
      "127.0.0.1 - - [25/Apr/2023 12:03:05] \"POST /_dash-update-component HTTP/1.1\" 200 -\n"
     ]
    },
    {
     "name": "stdout",
     "output_type": "stream",
     "text": [
      "1/1 [==============================] - 2s 2s/step\n",
      "1/1 [==============================] - 2s 2s/step\n"
     ]
    },
    {
     "name": "stderr",
     "output_type": "stream",
     "text": [
      "127.0.0.1 - - [25/Apr/2023 12:03:06] \"POST /_dash-update-component HTTP/1.1\" 200 -\n"
     ]
    },
    {
     "name": "stdout",
     "output_type": "stream",
     "text": [
      "1/1 [==============================] - 2s 2s/step\n",
      "1/1 [==============================] - 1s 1s/step\n"
     ]
    },
    {
     "name": "stderr",
     "output_type": "stream",
     "text": [
      "127.0.0.1 - - [25/Apr/2023 12:03:07] \"POST /_dash-update-component HTTP/1.1\" 200 -\n"
     ]
    },
    {
     "name": "stdout",
     "output_type": "stream",
     "text": [
      "1/1 [==============================] - 2s 2s/step\n"
     ]
    },
    {
     "name": "stderr",
     "output_type": "stream",
     "text": [
      "127.0.0.1 - - [25/Apr/2023 12:03:08] \"GET /_reload-hash HTTP/1.1\" 200 -\n",
      "127.0.0.1 - - [25/Apr/2023 12:03:08] \"POST /_dash-update-component HTTP/1.1\" 200 -\n"
     ]
    },
    {
     "name": "stdout",
     "output_type": "stream",
     "text": [
      "1/1 [==============================] - 2s 2s/step\n",
      "1/1 [==============================] - 1s 1s/step\n",
      "1/1 [==============================] - 1s 1s/step\n"
     ]
    },
    {
     "name": "stderr",
     "output_type": "stream",
     "text": [
      "127.0.0.1 - - [25/Apr/2023 12:03:09] \"POST /_dash-update-component HTTP/1.1\" 200 -\n"
     ]
    },
    {
     "name": "stdout",
     "output_type": "stream",
     "text": [
      "1/1 [==============================] - 2s 2s/step\n"
     ]
    },
    {
     "name": "stderr",
     "output_type": "stream",
     "text": [
      "127.0.0.1 - - [25/Apr/2023 12:03:10] \"POST /_dash-update-component HTTP/1.1\" 200 -\n"
     ]
    },
    {
     "name": "stdout",
     "output_type": "stream",
     "text": [
      "1/1 [==============================] - 2s 2s/step\n",
      "1/1 [==============================] - 0s 118ms/step\n",
      "1/1 [==============================] - 2s 2s/step\n",
      "1/1 [==============================] - 0s 128ms/step\n",
      "1/1 [==============================] - 0s 169ms/step\n",
      "1/1 [==============================] - 0s 139ms/step\n",
      "1/1 [==============================] - 0s 161ms/step\n"
     ]
    },
    {
     "name": "stderr",
     "output_type": "stream",
     "text": [
      "127.0.0.1 - - [25/Apr/2023 12:03:11] \"GET /_reload-hash HTTP/1.1\" 200 -\n"
     ]
    },
    {
     "name": "stdout",
     "output_type": "stream",
     "text": [
      "1/1 [==============================] - 0s 150ms/step\n"
     ]
    },
    {
     "name": "stderr",
     "output_type": "stream",
     "text": [
      "127.0.0.1 - - [25/Apr/2023 12:03:11] \"POST /_dash-update-component HTTP/1.1\" 200 -\n"
     ]
    },
    {
     "name": "stdout",
     "output_type": "stream",
     "text": [
      "1/1 [==============================] - 0s 130ms/step\n",
      "1/1 [==============================] - 1s 1s/step\n",
      "1/1 [==============================] - 0s 120ms/step\n"
     ]
    },
    {
     "name": "stderr",
     "output_type": "stream",
     "text": [
      "127.0.0.1 - - [25/Apr/2023 12:03:12] \"POST /_dash-update-component HTTP/1.1\" 200 -\n"
     ]
    },
    {
     "name": "stdout",
     "output_type": "stream",
     "text": [
      "1/1 [==============================] - 1s 912ms/step\n"
     ]
    },
    {
     "name": "stderr",
     "output_type": "stream",
     "text": [
      "127.0.0.1 - - [25/Apr/2023 12:03:13] \"POST /_dash-update-component HTTP/1.1\" 200 -\n"
     ]
    },
    {
     "name": "stdout",
     "output_type": "stream",
     "text": [
      "1/1 [==============================] - 2s 2s/step\n",
      "1/1 [==============================] - 0s 158ms/step\n"
     ]
    },
    {
     "name": "stderr",
     "output_type": "stream",
     "text": [
      "127.0.0.1 - - [25/Apr/2023 12:03:14] \"GET /_reload-hash HTTP/1.1\" 200 -\n",
      "127.0.0.1 - - [25/Apr/2023 12:03:14] \"POST /_dash-update-component HTTP/1.1\" 200 -\n"
     ]
    },
    {
     "name": "stdout",
     "output_type": "stream",
     "text": [
      "1/1 [==============================] - 0s 219ms/step\n",
      "1/1 [==============================] - 0s 258ms/step\n",
      "1/1 [==============================] - 0s 299ms/step\n",
      "1/1 [==============================] - 0s 284ms/step\n",
      "1/1 [==============================] - 0s 101ms/step\n",
      "1/1 [==============================] - 0s 91ms/step\n"
     ]
    },
    {
     "name": "stderr",
     "output_type": "stream",
     "text": [
      "127.0.0.1 - - [25/Apr/2023 12:03:15] \"POST /_dash-update-component HTTP/1.1\" 200 -\n"
     ]
    },
    {
     "name": "stdout",
     "output_type": "stream",
     "text": [
      "1/1 [==============================] - 0s 134ms/step\n",
      "1/1 [==============================] - 0s 102ms/step\n",
      "1/1 [==============================] - 1s 1s/step\n",
      "1/1 [==============================] - 0s 133ms/step\n",
      "1/1 [==============================] - 0s 172ms/step\n",
      "1/1 [==============================] - 0s 237ms/step\n",
      "1/1 [==============================] - 0s 255ms/step\n",
      "1/1 [==============================] - 0s 244ms/step\n"
     ]
    },
    {
     "name": "stderr",
     "output_type": "stream",
     "text": [
      "127.0.0.1 - - [25/Apr/2023 12:03:16] \"POST /_dash-update-component HTTP/1.1\" 200 -\n"
     ]
    },
    {
     "name": "stdout",
     "output_type": "stream",
     "text": [
      "1/1 [==============================] - 0s 149ms/step\n",
      "1/1 [==============================] - 0s 182ms/step\n",
      "1/1 [==============================] - 0s 174ms/step\n",
      "1/1 [==============================] - 0s 108ms/step\n",
      "1/1 [==============================] - 0s 90ms/step\n",
      "1/1 [==============================] - 0s 107ms/step\n",
      "1/1 [==============================] - 0s 96ms/step\n",
      "1/1 [==============================] - 1s 1s/step\n",
      "1/1 [==============================] - 0s 91ms/step\n",
      "1/1 [==============================] - 0s 82ms/step\n"
     ]
    },
    {
     "name": "stderr",
     "output_type": "stream",
     "text": [
      "127.0.0.1 - - [25/Apr/2023 12:03:17] \"GET /_reload-hash HTTP/1.1\" 200 -\n",
      "127.0.0.1 - - [25/Apr/2023 12:03:17] \"POST /_dash-update-component HTTP/1.1\" 200 -\n"
     ]
    },
    {
     "name": "stdout",
     "output_type": "stream",
     "text": [
      "1/1 [==============================] - 0s 207ms/step\n",
      "1/1 [==============================] - 0s 190ms/step\n",
      "1/1 [==============================] - 0s 142ms/step\n",
      "1/1 [==============================] - 0s 81ms/step\n",
      "1/1 [==============================] - 0s 217ms/step\n",
      "1/1 [==============================] - 0s 208ms/step\n",
      "1/1 [==============================] - 0s 106ms/step\n",
      "1/1 [==============================] - 0s 101ms/step\n",
      "1/1 [==============================] - 1s 1s/step\n"
     ]
    },
    {
     "name": "stderr",
     "output_type": "stream",
     "text": [
      "127.0.0.1 - - [25/Apr/2023 12:03:18] \"POST /_dash-update-component HTTP/1.1\" 200 -\n"
     ]
    },
    {
     "name": "stdout",
     "output_type": "stream",
     "text": [
      "1/1 [==============================] - 0s 123ms/step\n",
      "1/1 [==============================] - 0s 151ms/step\n",
      "1/1 [==============================] - 0s 171ms/step\n",
      "1/1 [==============================] - 0s 170ms/step\n",
      "1/1 [==============================] - 0s 124ms/step\n",
      "1/1 [==============================] - 0s 171ms/step\n",
      "1/1 [==============================] - 0s 102ms/step\n",
      "1/1 [==============================] - 0s 106ms/step\n"
     ]
    },
    {
     "name": "stderr",
     "output_type": "stream",
     "text": [
      "127.0.0.1 - - [25/Apr/2023 12:03:19] \"POST /_dash-update-component HTTP/1.1\" 200 -\n"
     ]
    },
    {
     "name": "stdout",
     "output_type": "stream",
     "text": [
      "1/1 [==============================] - 0s 100ms/step\n",
      "1/1 [==============================] - 1s 1s/step\n",
      "1/1 [==============================] - 0s 122ms/step\n",
      "1/1 [==============================] - 0s 145ms/step\n",
      "1/1 [==============================] - 0s 231ms/step\n",
      "1/1 [==============================] - 0s 274ms/step\n",
      "1/1 [==============================] - 0s 138ms/step\n"
     ]
    },
    {
     "name": "stderr",
     "output_type": "stream",
     "text": [
      "127.0.0.1 - - [25/Apr/2023 12:03:20] \"GET /_reload-hash HTTP/1.1\" 200 -\n",
      "127.0.0.1 - - [25/Apr/2023 12:03:20] \"POST /_dash-update-component HTTP/1.1\" 200 -\n"
     ]
    },
    {
     "name": "stdout",
     "output_type": "stream",
     "text": [
      "1/1 [==============================] - 0s 204ms/step\n",
      "1/1 [==============================] - 0s 238ms/step\n",
      "1/1 [==============================] - 0s 103ms/step\n",
      "1/1 [==============================] - 0s 113ms/step\n",
      "1/1 [==============================] - 1s 1s/step\n",
      "1/1 [==============================] - 0s 86ms/step\n",
      "1/1 [==============================] - 0s 136ms/step\n",
      "1/1 [==============================] - 0s 212ms/step\n",
      "1/1 [==============================] - 0s 171ms/step\n",
      "1/1 [==============================] - 0s 120ms/step\n",
      "1/1 [==============================] - 0s 89ms/step\n"
     ]
    },
    {
     "name": "stderr",
     "output_type": "stream",
     "text": [
      "127.0.0.1 - - [25/Apr/2023 12:03:21] \"POST /_dash-update-component HTTP/1.1\" 200 -\n"
     ]
    },
    {
     "name": "stdout",
     "output_type": "stream",
     "text": [
      "1/1 [==============================] - 0s 161ms/step\n",
      "1/1 [==============================] - 0s 154ms/step\n",
      "1/1 [==============================] - 0s 122ms/step\n",
      "1/1 [==============================] - 0s 97ms/step\n",
      "1/1 [==============================] - 0s 123ms/step\n",
      "1/1 [==============================] - 0s 109ms/step\n",
      "1/1 [==============================] - 1s 1s/step\n",
      "1/1 [==============================] - 0s 100ms/step\n",
      "1/1 [==============================] - 0s 209ms/step\n",
      "1/1 [==============================] - 0s 186ms/step\n"
     ]
    },
    {
     "name": "stderr",
     "output_type": "stream",
     "text": [
      "127.0.0.1 - - [25/Apr/2023 12:03:22] \"POST /_dash-update-component HTTP/1.1\" 200 -\n"
     ]
    },
    {
     "name": "stdout",
     "output_type": "stream",
     "text": [
      "1/1 [==============================] - 0s 139ms/step\n",
      "1/1 [==============================] - 0s 130ms/step\n",
      "1/1 [==============================] - 0s 159ms/step\n",
      "1/1 [==============================] - 0s 147ms/step\n",
      "1/1 [==============================] - 0s 99ms/step\n",
      "1/1 [==============================] - 0s 105ms/step\n",
      "1/1 [==============================] - 1s 1s/step\n"
     ]
    },
    {
     "name": "stderr",
     "output_type": "stream",
     "text": [
      "127.0.0.1 - - [25/Apr/2023 12:03:23] \"GET /_reload-hash HTTP/1.1\" 200 -\n"
     ]
    },
    {
     "name": "stdout",
     "output_type": "stream",
     "text": [
      "1/1 [==============================] - 0s 200ms/step\n"
     ]
    },
    {
     "name": "stderr",
     "output_type": "stream",
     "text": [
      "127.0.0.1 - - [25/Apr/2023 12:03:23] \"POST /_dash-update-component HTTP/1.1\" 200 -\n",
      "127.0.0.1 - - [25/Apr/2023 12:03:24] \"POST /_dash-update-component HTTP/1.1\" 200 -\n"
     ]
    },
    {
     "name": "stdout",
     "output_type": "stream",
     "text": [
      "1/1 [==============================] - 2s 2s/step\n",
      "1/1 [==============================] - 2s 2s/step\n",
      "1/1 [==============================] - 2s 2s/step\n"
     ]
    },
    {
     "name": "stderr",
     "output_type": "stream",
     "text": [
      "127.0.0.1 - - [25/Apr/2023 12:03:25] \"POST /_dash-update-component HTTP/1.1\" 200 -\n",
      "127.0.0.1 - - [25/Apr/2023 12:03:26] \"GET /_reload-hash HTTP/1.1\" 200 -\n",
      "127.0.0.1 - - [25/Apr/2023 12:03:26] \"POST /_dash-update-component HTTP/1.1\" 200 -\n"
     ]
    },
    {
     "name": "stdout",
     "output_type": "stream",
     "text": [
      "1/1 [==============================] - 2s 2s/step\n",
      "1/1 [==============================] - 2s 2s/step\n",
      "1/1 [==============================] - 2s 2s/step\n"
     ]
    },
    {
     "name": "stderr",
     "output_type": "stream",
     "text": [
      "127.0.0.1 - - [25/Apr/2023 12:03:27] \"POST /_dash-update-component HTTP/1.1\" 200 -\n",
      "127.0.0.1 - - [25/Apr/2023 12:03:28] \"POST /_dash-update-component HTTP/1.1\" 200 -\n",
      "127.0.0.1 - - [25/Apr/2023 12:03:29] \"GET /_reload-hash HTTP/1.1\" 200 -\n",
      "127.0.0.1 - - [25/Apr/2023 12:03:29] \"POST /_dash-update-component HTTP/1.1\" 200 -\n"
     ]
    },
    {
     "name": "stdout",
     "output_type": "stream",
     "text": [
      "1/1 [==============================] - 3s 3s/step\n",
      "1/1 [==============================] - 3s 3s/step\n",
      "1/1 [==============================] - 3s 3s/step\n"
     ]
    },
    {
     "name": "stderr",
     "output_type": "stream",
     "text": [
      "127.0.0.1 - - [25/Apr/2023 12:03:30] \"POST /_dash-update-component HTTP/1.1\" 200 -\n",
      "127.0.0.1 - - [25/Apr/2023 12:03:31] \"POST /_dash-update-component HTTP/1.1\" 200 -\n"
     ]
    },
    {
     "name": "stdout",
     "output_type": "stream",
     "text": [
      "1/1 [==============================] - 2s 2s/step\n",
      "1/1 [==============================] - 2s 2s/step\n",
      "1/1 [==============================] - 2s 2s/step\n"
     ]
    },
    {
     "name": "stderr",
     "output_type": "stream",
     "text": [
      "127.0.0.1 - - [25/Apr/2023 12:03:32] \"GET /_reload-hash HTTP/1.1\" 200 -\n",
      "127.0.0.1 - - [25/Apr/2023 12:03:32] \"POST /_dash-update-component HTTP/1.1\" 200 -\n",
      "127.0.0.1 - - [25/Apr/2023 12:03:33] \"POST /_dash-update-component HTTP/1.1\" 200 -\n",
      "127.0.0.1 - - [25/Apr/2023 12:03:34] \"POST /_dash-update-component HTTP/1.1\" 200 -\n"
     ]
    },
    {
     "name": "stdout",
     "output_type": "stream",
     "text": [
      "1/1 [==============================] - 2s 2s/step\n",
      "1/1 [==============================] - 2s 2s/step\n",
      "1/1 [==============================] - 3s 3s/step\n"
     ]
    },
    {
     "name": "stderr",
     "output_type": "stream",
     "text": [
      "127.0.0.1 - - [25/Apr/2023 12:03:35] \"GET /_reload-hash HTTP/1.1\" 200 -\n",
      "127.0.0.1 - - [25/Apr/2023 12:03:35] \"POST /_dash-update-component HTTP/1.1\" 200 -\n",
      "127.0.0.1 - - [25/Apr/2023 12:03:36] \"POST /_dash-update-component HTTP/1.1\" 200 -\n"
     ]
    },
    {
     "name": "stdout",
     "output_type": "stream",
     "text": [
      "1/1 [==============================] - 2s 2s/step\n",
      "1/1 [==============================] - 2s 2s/step\n",
      "1/1 [==============================] - 2s 2s/step\n"
     ]
    },
    {
     "name": "stderr",
     "output_type": "stream",
     "text": [
      "127.0.0.1 - - [25/Apr/2023 12:03:37] \"POST /_dash-update-component HTTP/1.1\" 200 -\n",
      "127.0.0.1 - - [25/Apr/2023 12:03:38] \"GET /_reload-hash HTTP/1.1\" 200 -\n",
      "127.0.0.1 - - [25/Apr/2023 12:03:38] \"POST /_dash-update-component HTTP/1.1\" 200 -\n"
     ]
    },
    {
     "name": "stdout",
     "output_type": "stream",
     "text": [
      "1/1 [==============================] - 2s 2s/step\n"
     ]
    },
    {
     "name": "stderr",
     "output_type": "stream",
     "text": [
      "127.0.0.1 - - [25/Apr/2023 12:03:39] \"POST /_dash-update-component HTTP/1.1\" 200 -\n",
      "127.0.0.1 - - [25/Apr/2023 12:03:39] \"POST /_dash-update-component HTTP/1.1\" 200 -\n"
     ]
    },
    {
     "name": "stdout",
     "output_type": "stream",
     "text": [
      "1/1 [==============================] - 2s 2s/step\n",
      "1/1 [==============================] - 2s 2s/step\n"
     ]
    },
    {
     "name": "stderr",
     "output_type": "stream",
     "text": [
      "127.0.0.1 - - [25/Apr/2023 12:03:40] \"POST /_dash-update-component HTTP/1.1\" 200 -\n"
     ]
    },
    {
     "name": "stdout",
     "output_type": "stream",
     "text": [
      "1/1 [==============================] - 1s 1s/step\n",
      "1/1 [==============================] - 1s 1s/step\n"
     ]
    },
    {
     "name": "stderr",
     "output_type": "stream",
     "text": [
      "127.0.0.1 - - [25/Apr/2023 12:03:41] \"GET /_reload-hash HTTP/1.1\" 200 -\n",
      "127.0.0.1 - - [25/Apr/2023 12:03:41] \"POST /_dash-update-component HTTP/1.1\" 200 -\n"
     ]
    },
    {
     "name": "stdout",
     "output_type": "stream",
     "text": [
      "1/1 [==============================] - 1s 1s/step\n",
      "1/1 [==============================] - 1s 1s/step\n"
     ]
    },
    {
     "name": "stderr",
     "output_type": "stream",
     "text": [
      "127.0.0.1 - - [25/Apr/2023 12:03:42] \"POST /_dash-update-component HTTP/1.1\" 200 -\n"
     ]
    },
    {
     "name": "stdout",
     "output_type": "stream",
     "text": [
      "1/1 [==============================] - 1s 1s/step\n"
     ]
    },
    {
     "name": "stderr",
     "output_type": "stream",
     "text": [
      "127.0.0.1 - - [25/Apr/2023 12:03:43] \"POST /_dash-update-component HTTP/1.1\" 200 -\n"
     ]
    },
    {
     "name": "stdout",
     "output_type": "stream",
     "text": [
      "1/1 [==============================] - 1s 1s/step\n"
     ]
    },
    {
     "name": "stderr",
     "output_type": "stream",
     "text": [
      "127.0.0.1 - - [25/Apr/2023 12:03:44] \"GET /_reload-hash HTTP/1.1\" 200 -\n",
      "127.0.0.1 - - [25/Apr/2023 12:03:44] \"POST /_dash-update-component HTTP/1.1\" 200 -\n"
     ]
    },
    {
     "name": "stdout",
     "output_type": "stream",
     "text": [
      "1/1 [==============================] - 1s 1s/step\n",
      "1/1 [==============================] - 1s 1s/step\n"
     ]
    },
    {
     "name": "stderr",
     "output_type": "stream",
     "text": [
      "127.0.0.1 - - [25/Apr/2023 12:03:45] \"POST /_dash-update-component HTTP/1.1\" 200 -\n"
     ]
    },
    {
     "name": "stdout",
     "output_type": "stream",
     "text": [
      "1/1 [==============================] - 1s 1s/step\n",
      "1/1 [==============================] - 1s 1s/step\n"
     ]
    },
    {
     "name": "stderr",
     "output_type": "stream",
     "text": [
      "127.0.0.1 - - [25/Apr/2023 12:03:46] \"POST /_dash-update-component HTTP/1.1\" 200 -\n"
     ]
    },
    {
     "name": "stdout",
     "output_type": "stream",
     "text": [
      "1/1 [==============================] - 1s 1s/step\n",
      "1/1 [==============================] - 1s 1s/step\n"
     ]
    },
    {
     "name": "stderr",
     "output_type": "stream",
     "text": [
      "127.0.0.1 - - [25/Apr/2023 12:03:47] \"GET /_reload-hash HTTP/1.1\" 200 -\n",
      "127.0.0.1 - - [25/Apr/2023 12:03:47] \"POST /_dash-update-component HTTP/1.1\" 200 -\n"
     ]
    },
    {
     "name": "stdout",
     "output_type": "stream",
     "text": [
      "1/1 [==============================] - 1s 1s/step\n",
      "1/1 [==============================] - 1s 1s/step\n"
     ]
    },
    {
     "name": "stderr",
     "output_type": "stream",
     "text": [
      "127.0.0.1 - - [25/Apr/2023 12:03:48] \"POST /_dash-update-component HTTP/1.1\" 200 -\n",
      "127.0.0.1 - - [25/Apr/2023 12:03:49] \"POST /_dash-update-component HTTP/1.1\" 200 -\n"
     ]
    },
    {
     "name": "stdout",
     "output_type": "stream",
     "text": [
      "1/1 [==============================] - 1s 1s/step\n",
      "1/1 [==============================] - 1s 1s/step\n"
     ]
    },
    {
     "name": "stderr",
     "output_type": "stream",
     "text": [
      "127.0.0.1 - - [25/Apr/2023 12:03:50] \"GET /_reload-hash HTTP/1.1\" 200 -\n",
      "127.0.0.1 - - [25/Apr/2023 12:03:50] \"POST /_dash-update-component HTTP/1.1\" 200 -\n"
     ]
    },
    {
     "name": "stdout",
     "output_type": "stream",
     "text": [
      "1/1 [==============================] - 1s 1s/step\n",
      "1/1 [==============================] - 1s 1s/step\n"
     ]
    },
    {
     "name": "stderr",
     "output_type": "stream",
     "text": [
      "127.0.0.1 - - [25/Apr/2023 12:03:51] \"POST /_dash-update-component HTTP/1.1\" 200 -\n"
     ]
    },
    {
     "name": "stdout",
     "output_type": "stream",
     "text": [
      "1/1 [==============================] - 1s 1s/step\n",
      "1/1 [==============================] - 1s 1s/step\n"
     ]
    },
    {
     "name": "stderr",
     "output_type": "stream",
     "text": [
      "127.0.0.1 - - [25/Apr/2023 12:03:52] \"POST /_dash-update-component HTTP/1.1\" 200 -\n"
     ]
    },
    {
     "name": "stdout",
     "output_type": "stream",
     "text": [
      "1/1 [==============================] - 1s 1s/step\n"
     ]
    },
    {
     "name": "stderr",
     "output_type": "stream",
     "text": [
      "127.0.0.1 - - [25/Apr/2023 12:03:53] \"GET /_reload-hash HTTP/1.1\" 200 -\n",
      "127.0.0.1 - - [25/Apr/2023 12:03:53] \"POST /_dash-update-component HTTP/1.1\" 200 -\n"
     ]
    },
    {
     "name": "stdout",
     "output_type": "stream",
     "text": [
      "1/1 [==============================] - 1s 1s/step\n"
     ]
    },
    {
     "name": "stderr",
     "output_type": "stream",
     "text": [
      "127.0.0.1 - - [25/Apr/2023 12:03:54] \"POST /_dash-update-component HTTP/1.1\" 200 -\n"
     ]
    },
    {
     "name": "stdout",
     "output_type": "stream",
     "text": [
      "1/1 [==============================] - 1s 1s/step\n",
      "1/1 [==============================] - 1s 1s/step\n"
     ]
    },
    {
     "name": "stderr",
     "output_type": "stream",
     "text": [
      "127.0.0.1 - - [25/Apr/2023 12:03:55] \"POST /_dash-update-component HTTP/1.1\" 200 -\n"
     ]
    },
    {
     "name": "stdout",
     "output_type": "stream",
     "text": [
      "1/1 [==============================] - 1s 1s/step\n"
     ]
    },
    {
     "name": "stderr",
     "output_type": "stream",
     "text": [
      "127.0.0.1 - - [25/Apr/2023 12:03:55] \"POST /_dash-update-component HTTP/1.1\" 200 -\n"
     ]
    },
    {
     "name": "stdout",
     "output_type": "stream",
     "text": [
      "1/1 [==============================] - 1s 1s/step\n"
     ]
    },
    {
     "name": "stderr",
     "output_type": "stream",
     "text": [
      "127.0.0.1 - - [25/Apr/2023 12:03:55] \"POST /_dash-update-component HTTP/1.1\" 200 -\n",
      "127.0.0.1 - - [25/Apr/2023 12:03:56] \"GET /_reload-hash HTTP/1.1\" 200 -\n",
      "127.0.0.1 - - [25/Apr/2023 12:03:56] \"POST /_dash-update-component HTTP/1.1\" 200 -\n",
      "127.0.0.1 - - [25/Apr/2023 12:03:57] \"POST /_dash-update-component HTTP/1.1\" 200 -\n",
      "127.0.0.1 - - [25/Apr/2023 12:03:58] \"POST /_dash-update-component HTTP/1.1\" 200 -\n",
      "127.0.0.1 - - [25/Apr/2023 12:03:59] \"GET /_reload-hash HTTP/1.1\" 200 -\n",
      "127.0.0.1 - - [25/Apr/2023 12:03:59] \"POST /_dash-update-component HTTP/1.1\" 200 -\n",
      "127.0.0.1 - - [25/Apr/2023 12:04:00] \"POST /_dash-update-component HTTP/1.1\" 200 -\n",
      "127.0.0.1 - - [25/Apr/2023 12:04:01] \"POST /_dash-update-component HTTP/1.1\" 200 -\n",
      "127.0.0.1 - - [25/Apr/2023 12:04:02] \"GET /_reload-hash HTTP/1.1\" 200 -\n",
      "127.0.0.1 - - [25/Apr/2023 12:04:02] \"POST /_dash-update-component HTTP/1.1\" 200 -\n",
      "127.0.0.1 - - [25/Apr/2023 12:04:03] \"POST /_dash-update-component HTTP/1.1\" 200 -\n",
      "127.0.0.1 - - [25/Apr/2023 12:04:04] \"POST /_dash-update-component HTTP/1.1\" 200 -\n",
      "127.0.0.1 - - [25/Apr/2023 12:04:05] \"GET /_reload-hash HTTP/1.1\" 200 -\n",
      "127.0.0.1 - - [25/Apr/2023 12:04:05] \"POST /_dash-update-component HTTP/1.1\" 200 -\n",
      "127.0.0.1 - - [25/Apr/2023 12:04:06] \"POST /_dash-update-component HTTP/1.1\" 200 -\n",
      "127.0.0.1 - - [25/Apr/2023 12:04:07] \"POST /_dash-update-component HTTP/1.1\" 200 -\n",
      "127.0.0.1 - - [25/Apr/2023 12:04:08] \"GET /_reload-hash HTTP/1.1\" 200 -\n",
      "127.0.0.1 - - [25/Apr/2023 12:04:08] \"POST /_dash-update-component HTTP/1.1\" 200 -\n",
      "127.0.0.1 - - [25/Apr/2023 12:04:09] \"POST /_dash-update-component HTTP/1.1\" 200 -\n",
      "127.0.0.1 - - [25/Apr/2023 12:04:10] \"POST /_dash-update-component HTTP/1.1\" 200 -\n",
      "127.0.0.1 - - [25/Apr/2023 12:04:11] \"GET /_reload-hash HTTP/1.1\" 200 -\n",
      "127.0.0.1 - - [25/Apr/2023 12:04:11] \"POST /_dash-update-component HTTP/1.1\" 200 -\n",
      "127.0.0.1 - - [25/Apr/2023 12:04:12] \"POST /_dash-update-component HTTP/1.1\" 200 -\n",
      "127.0.0.1 - - [25/Apr/2023 12:04:13] \"POST /_dash-update-component HTTP/1.1\" 200 -\n",
      "127.0.0.1 - - [25/Apr/2023 12:04:14] \"GET /_reload-hash HTTP/1.1\" 200 -\n",
      "127.0.0.1 - - [25/Apr/2023 12:04:14] \"POST /_dash-update-component HTTP/1.1\" 200 -\n",
      "127.0.0.1 - - [25/Apr/2023 12:04:15] \"POST /_dash-update-component HTTP/1.1\" 200 -\n",
      "127.0.0.1 - - [25/Apr/2023 12:04:16] \"POST /_dash-update-component HTTP/1.1\" 200 -\n",
      "127.0.0.1 - - [25/Apr/2023 12:04:17] \"GET /_reload-hash HTTP/1.1\" 200 -\n",
      "127.0.0.1 - - [25/Apr/2023 12:04:17] \"POST /_dash-update-component HTTP/1.1\" 200 -\n",
      "127.0.0.1 - - [25/Apr/2023 12:04:18] \"POST /_dash-update-component HTTP/1.1\" 200 -\n",
      "127.0.0.1 - - [25/Apr/2023 12:04:19] \"POST /_dash-update-component HTTP/1.1\" 200 -\n",
      "127.0.0.1 - - [25/Apr/2023 12:04:20] \"GET /_reload-hash HTTP/1.1\" 200 -\n",
      "127.0.0.1 - - [25/Apr/2023 12:04:20] \"POST /_dash-update-component HTTP/1.1\" 200 -\n"
     ]
    }
   ],
   "source": [
    "\n",
    "app = Dash(__name__, external_stylesheets=[dbc.themes.SLATE])\n",
    "\n",
    "\n",
    "#Html Block\n",
    "app.layout = html.Div([\n",
    "\n",
    "    dbc.Container([\n",
    "\n",
    "            html.Br(),\n",
    "            dbc.Row([\n",
    "                html.H1('Predicting text with text from party speeches'), \n",
    "                dcc.Markdown('\\n'),\n",
    "                dcc.Markdown(\"Here you can generate text in the style of three parties from Germany.\\\n",
    "                These models were trained with:\"),\n",
    "                dcc.Markdown('''\n",
    "                *  LSTMs  \n",
    "                *  They achieved an accuracy of about 78% and precision of about 91%\n",
    "                *  Speeches by party members from the German Bundestag\n",
    "                *  The data was scraped by the user '''),\n",
    "                dcc.Markdown('\\n'),\n",
    "                dcc.Markdown('Choose the number of sentences and have fun!'),\n",
    "                dcc.Markdown('\\n'),                      \n",
    "                \n",
    "                \n",
    "                \n",
    "                html.Br(), html.Br(),\n",
    "\n",
    "            dcc.Textarea(\n",
    "                        id='textarea-state-example',\n",
    "                        value='',\n",
    "                        placeholder=\"Type something...\",\n",
    "                        style={'border-radius': '1em', 'width': '70%', 'height': 150}),\n",
    "\n",
    "\n",
    "                ]\n",
    "            \n",
    "            ),  html.Br(),\n",
    "\n",
    "            html.Div( \n",
    "                \n",
    "                [\n",
    "                    html.Div( \n",
    "                        \n",
    "                        [\n",
    "\n",
    "                            html.Button('SUBMIT', id='textarea-state-example-button', n_clicks=0,\n",
    "                                  \n",
    "                            )\n",
    "                        ],\n",
    "                        style={\n",
    "                            \"display\": \"inline-block\",\n",
    "                            \"width\": \"30%\",\n",
    "                            'border-radius': '0.5em',\n",
    "                             \"verticalAlign\": \"top\"\n",
    "                        }\n",
    "                ),\n",
    "\n",
    "                html.Div(\n",
    "                    \n",
    "                    [\n",
    "\n",
    "                        daq.NumericInput(id='my-numeric-input-1',  value=0,\n",
    "                        )\n",
    "\n",
    "                    ],\n",
    "                        style={\n",
    "                            \"display\": \"inline-block\",\n",
    "                            \n",
    "                        \n",
    "                            'border-radius': '0.5em'\n",
    "\n",
    "                            }\n",
    "                        ),\n",
    "                    ]\n",
    "               ), html.Br(), html.Br(),\n",
    "\n",
    "\n",
    "\n",
    "\n",
    "                dbc.Row([html.H1('Die Grünen'),\n",
    "                        dcc.Textarea( id='textarea-state-example-output_Grüne',  placeholder = \"\",\n",
    "                        style={'border-radius': '1em', 'width': '100%', 'height': 100}, className=\"class--grüne\"),\n",
    "                        dcc.Interval(id='interval-component', interval=1*1000, n_intervals=0)\n",
    "\n",
    "                        ]\n",
    "                       \n",
    "                       \n",
    "                ), html.Br(), html.Br(),\n",
    "\n",
    "\n",
    "\n",
    "                dbc.Row([html.H1('AfD'),\n",
    "                    dcc.Textarea(id='textarea-state-example-output_afd',  placeholder = \"\",\n",
    "                    style={'border-radius': '1em', 'width': '100%', 'whiteSpace': 'pre-line', 'height': 100}),\n",
    "\n",
    "\n",
    "\n",
    "                        ]\n",
    "                        \n",
    "                ), html.Br(), html.Br(),\n",
    "\n",
    "\n",
    "\n",
    "                dbc.Row([html.H1('FDP'),dcc.Textarea(\n",
    "\n",
    "                        id='textarea-state-example-output_fdp', placeholder = \"\",\n",
    "                        style={'border-radius': '1em', 'width': '100%', 'whiteSpace': 'pre-line', 'height': 100}, loading_state = {}),\n",
    "\n",
    "\n",
    "\n",
    "                    ]),\n",
    "\n",
    "\n",
    "        ])\n",
    "\n",
    "\n",
    "])\n",
    "\n",
    "\n",
    "\n",
    "#callback for reset with new prompt\n",
    "\n",
    "@app.callback(\n",
    "    Output('textarea-state-example-output_Grüne', 'value', allow_duplicate=True),\n",
    "    Output('textarea-state-example-output_afd', 'value', allow_duplicate=True),\n",
    "    Output('textarea-state-example-output_fdp', 'value', allow_duplicate=True),\n",
    "    Input('textarea-state-example-button', 'n_clicks'), prevent_initial_call=True\n",
    ")\n",
    "\n",
    "\n",
    "\n",
    "def reset(n_clicks):\n",
    "    \n",
    " \n",
    "    if n_clicks > 0:\n",
    "    \n",
    "        return \"\",\"\",\"\"\n",
    "\n",
    "\n",
    "\n",
    "\n",
    "\n",
    "\n",
    "#alternating loading block\n",
    "@app.callback(\n",
    "    Output('textarea-state-example-output_Grüne', 'placeholder', allow_duplicate=True),\n",
    "    Output('textarea-state-example-output_afd', 'placeholder', allow_duplicate=True),\n",
    "    Output('textarea-state-example-output_fdp', 'placeholder', allow_duplicate=True),\n",
    "    Input('interval-component', 'n_intervals'),\n",
    "    Input('textarea-state-example-button', 'n_clicks'), prevent_initial_call=True\n",
    ")\n",
    "\n",
    "\n",
    "\n",
    "def placeholder(n_intervals, n_clicks):\n",
    "\n",
    "    if n_clicks > 0:\n",
    "  \n",
    "        if n_intervals % 2 == 0:\n",
    "            \n",
    "            \n",
    "            return '\\N{Full block}', '\\N{Full block}','\\N{Full block}'\n",
    "\n",
    "        else:\n",
    "            return \"\", \"\", \"\"\n",
    "\n",
    "\n",
    "\n",
    "\n",
    "\n",
    "\n",
    "        \n",
    "\n",
    "#text input and predicted text output. Counting of sentences.\n",
    "@app.callback(\n",
    "    Output('textarea-state-example-output_Grüne', 'value' ),\n",
    "    Output('textarea-state-example-output_afd', 'value'),\n",
    "    Output('textarea-state-example-output_fdp', 'value'),\n",
    "    Input('textarea-state-example-button', 'n_clicks'),\n",
    "    State('textarea-state-example', 'value'),\n",
    "    Input('my-numeric-input-1', 'value') #Number of sentences\n",
    ")\n",
    "\n",
    "\n",
    "\n",
    "\n",
    "def update_output(n_clicks, value, num_sent):\n",
    "    \n",
    "    \n",
    "    value = value.lower()\n",
    "\n",
    "    if n_clicks > 0:\n",
    "        \n",
    "        \n",
    "        #####################################################################\n",
    "\n",
    "\n",
    "            #Grüne block\n",
    "            seed_text = str(value)\n",
    "            next_words = 1000\n",
    "\n",
    "            for _ in range(next_words):\n",
    "                token_list = tokenizer_FDP.texts_to_sequences([seed_text])[0]\n",
    "                token_list = pad_sequences([token_list], maxlen=max_sequence_len_FDP-1, padding='pre')\n",
    "                predicted = np.argmax(model_FDP.predict(token_list), axis=-1)\n",
    "                output_word = \"\"\n",
    "                for word, index in tokenizer_FDP.word_index.items():\n",
    "                    if index == predicted:\n",
    "                        output_word = word\n",
    "                        break\n",
    "                #Sentence counting\n",
    "                seed_text += \" \" + output_word\n",
    "                if len(seed_text.split('.')) == num_sent +1:\n",
    "                    break\n",
    "\n",
    "\n",
    "            text_fdp= seed_text\n",
    "\n",
    "        \n",
    "        \n",
    "            #AfD block\n",
    "            seed_text = str(value)\n",
    "            next_words = 1000\n",
    "\n",
    "            for _ in range(next_words):\n",
    "                token_list = tokenizer_afd.texts_to_sequences([seed_text])[0]\n",
    "                token_list = pad_sequences([token_list], maxlen=max_sequence_len_afd-1, padding='pre')\n",
    "                predicted = np.argmax(model_afd.predict(token_list), axis=-1)\n",
    "                output_word = \"\"\n",
    "                for word, index in tokenizer_afd.word_index.items():\n",
    "                    if index == predicted:\n",
    "                        output_word = word\n",
    "                        break\n",
    "                #Sentence counting\n",
    "                seed_text += \" \" + output_word\n",
    "                if len(seed_text.split('.')) == num_sent +1:\n",
    "                    break\n",
    "\n",
    "\n",
    "            text_afd= seed_text\n",
    "\n",
    "        \n",
    "            #FDP block\n",
    "            seed_text = str(value)\n",
    "            next_words = 1000\n",
    "\n",
    "            for _ in range(next_words):\n",
    "                token_list = tokenizer_Grüne.texts_to_sequences([seed_text])[0]\n",
    "                token_list = pad_sequences([token_list], maxlen=max_sequence_len_Grüne-1, padding='pre')\n",
    "                predicted = np.argmax(model_Grüne.predict(token_list), axis=-1)\n",
    "                output_word = \"\"\n",
    "                for word, index in tokenizer_Grüne.word_index.items():\n",
    "                    if index == predicted:\n",
    "                        output_word = word\n",
    "                        break\n",
    "                #Sentence counting\n",
    "                seed_text += \" \" + output_word\n",
    "                if len(seed_text.split('.')) == num_sent +1:\n",
    "                    break\n",
    "                \n",
    "\n",
    "\n",
    "            text_grüne= seed_text\n",
    "            \n",
    "            \n",
    "            return text_grüne, text_afd, text_fdp\n",
    "    \n",
    "    \n",
    "\n",
    "if __name__ == '__main__':\n",
    "    app.run_server(\"127.0.0.1\", port=\"8050\", dev_tools_hot_reload=True)\n"
   ]
  },
  {
   "cell_type": "code",
   "execution_count": null,
   "id": "0dd981cd-9bdc-4b9a-8d97-94c0aadeafc5",
   "metadata": {},
   "outputs": [],
   "source": []
  }
 ],
 "metadata": {
  "kernelspec": {
   "display_name": "Python (Kernel3.9)",
   "language": "python",
   "name": "myenv"
  },
  "language_info": {
   "codemirror_mode": {
    "name": "ipython",
    "version": 3
   },
   "file_extension": ".py",
   "mimetype": "text/x-python",
   "name": "python",
   "nbconvert_exporter": "python",
   "pygments_lexer": "ipython3",
   "version": "3.9.0"
  }
 },
 "nbformat": 4,
 "nbformat_minor": 5
}
